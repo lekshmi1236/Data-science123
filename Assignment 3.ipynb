{
 "cells": [
  {
   "cell_type": "markdown",
   "metadata": {},
   "source": [
    "# ques 1\n"
   ]
  },
  {
   "cell_type": "code",
   "execution_count": 1,
   "metadata": {},
   "outputs": [
    {
     "name": "stdout",
     "output_type": "stream",
     "text": [
      "2 5 8 11 14 17 20 23 26 29 32 35 38 41 44 47 "
     ]
    }
   ],
   "source": [
    "import numpy as np\n",
    "np.arr=[]\n",
    "for np.arr in range(2,50,3):\n",
    "    print(np.arr,end=\" \")"
   ]
  },
  {
   "cell_type": "markdown",
   "metadata": {},
   "source": [
    "# ques 2"
   ]
  },
  {
   "cell_type": "code",
   "execution_count": 2,
   "metadata": {},
   "outputs": [
    {
     "name": "stdout",
     "output_type": "stream",
     "text": [
      "5 7 8 2 1\n",
      "3 7 4 6 9\n",
      "[5, 7, 8, 2, 1]\n",
      "[3, 7, 4, 6, 9]\n",
      "[5 7 8 2 1]\n",
      "[3 7 4 6 9]\n",
      "[5 7 8 2 1 3 7 4 6 9]\n"
     ]
    },
    {
     "data": {
      "text/plain": [
       "array([1, 2, 3, 4, 5, 6, 7, 7, 8, 9])"
      ]
     },
     "execution_count": 2,
     "metadata": {},
     "output_type": "execute_result"
    }
   ],
   "source": [
    "import numpy as np\n",
    "lis1=[]\n",
    "lis2=[]\n",
    "\n",
    "\n",
    "\n",
    "lis1=[int(x) for x in input().split()]\n",
    "lis2=[int(x) for x in input().split()]\n",
    "print(lis1)\n",
    "print(lis2)\n",
    "arr1=np.asarray(lis1)\n",
    "arr2=np.asarray(lis2)\n",
    "print(arr1)\n",
    "print(arr2)\n",
    "arr3=np.concatenate((arr1,arr2))\n",
    "print(arr3)\n",
    "np.sort(arr3)"
   ]
  },
  {
   "cell_type": "markdown",
   "metadata": {},
   "source": [
    "# ques 3"
   ]
  },
  {
   "cell_type": "code",
   "execution_count": 3,
   "metadata": {},
   "outputs": [
    {
     "name": "stdout",
     "output_type": "stream",
     "text": [
      "1 5\n",
      "2 6\n",
      "3 12\n"
     ]
    }
   ],
   "source": [
    "arr1=np.array([1,2,3,6,8])\n",
    "arr2=np.array([[3,4,5],[23,5,78]])\n",
    "arr3=np.array([[[1,2,33],[3,6,9]],[[0.,3,5],[4,6,5]]])\n",
    "print(arr1.ndim,arr1.size)\n",
    "print(arr2.ndim,arr2.size)\n",
    "print(arr3.ndim,arr3.size)"
   ]
  },
  {
   "cell_type": "markdown",
   "metadata": {},
   "source": [
    "# ques 4"
   ]
  },
  {
   "cell_type": "code",
   "execution_count": 4,
   "metadata": {},
   "outputs": [
    {
     "name": "stdout",
     "output_type": "stream",
     "text": [
      "5\n",
      "[0 1 2 3 4]\n",
      "1\n",
      "[[0 1 2 3 4]]\n",
      "2\n",
      "[[0]\n",
      " [1]\n",
      " [2]\n",
      " [3]\n",
      " [4]]\n",
      "2\n"
     ]
    }
   ],
   "source": [
    "n=int(input())\n",
    "arr=np.arange(n)\n",
    "print(arr)\n",
    "print(arr.ndim)\n",
    "\n",
    "arr2=arr[np.newaxis,:]\n",
    "print(arr2)\n",
    "print(arr2.ndim)\n",
    "\n",
    "arr3=np.expand_dims(arr,axis=1)\n",
    "print(arr3)\n",
    "print(arr3.ndim)"
   ]
  },
  {
   "cell_type": "markdown",
   "metadata": {},
   "source": [
    "# ques 5"
   ]
  },
  {
   "cell_type": "code",
   "execution_count": 5,
   "metadata": {},
   "outputs": [
    {
     "name": "stdout",
     "output_type": "stream",
     "text": [
      "[[1 2 3]\n",
      " [4 5 6]\n",
      " [7 8 9]]\n",
      "[[11 12 13]\n",
      " [14 15 16]\n",
      " [17 18 19]]\n",
      "[[ 1  2  3]\n",
      " [ 4  5  6]\n",
      " [ 7  8  9]\n",
      " [11 12 13]\n",
      " [14 15 16]\n",
      " [17 18 19]]\n",
      "[[ 1  2  3 11 12 13]\n",
      " [ 4  5  6 14 15 16]\n",
      " [ 7  8  9 17 18 19]]\n"
     ]
    }
   ],
   "source": [
    "a=(np.arange(1,10).reshape(3,3))\n",
    "print(a)\n",
    "b=(np.arange(11,20).reshape(3,3))\n",
    "print(b)\n",
    "print(np.vstack([a,b]))\n",
    "print(np.hstack([a,b]))"
   ]
  },
  {
   "cell_type": "markdown",
   "metadata": {},
   "source": [
    "# ques 6"
   ]
  },
  {
   "cell_type": "code",
   "execution_count": 6,
   "metadata": {},
   "outputs": [
    {
     "name": "stdout",
     "output_type": "stream",
     "text": [
      "[1, 2, 3, 2, 4, 2, 3]\n",
      "[1 2 3 4]\n",
      "[1 3 2 1]\n"
     ]
    }
   ],
   "source": [
    "arr=[1,2,3,2,4,2,3]\n",
    "print(arr)\n",
    "unique,count=np.unique(arr,return_counts=True)\n",
    "print(unique)\n",
    "print(count)"
   ]
  },
  {
   "cell_type": "code",
   "execution_count": null,
   "metadata": {},
   "outputs": [],
   "source": []
  }
 ],
 "metadata": {
  "kernelspec": {
   "display_name": "Python 3",
   "language": "python",
   "name": "python3"
  },
  "language_info": {
   "codemirror_mode": {
    "name": "ipython",
    "version": 3
   },
   "file_extension": ".py",
   "mimetype": "text/x-python",
   "name": "python",
   "nbconvert_exporter": "python",
   "pygments_lexer": "ipython3",
   "version": "3.8.3"
  }
 },
 "nbformat": 4,
 "nbformat_minor": 4
}
